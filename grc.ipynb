{
 "cells": [
  {
   "cell_type": "code",
   "execution_count": 1,
   "id": "4749785a-bdf3-4ea5-ad68-a6eadb9b9f17",
   "metadata": {},
   "outputs": [
    {
     "data": {
      "text/plain": [
       "true"
      ]
     },
     "execution_count": 1,
     "metadata": {},
     "output_type": "execute_result"
    }
   ],
   "source": [
    "#!/usr/bin/env ruby\n",
    "# frozen_string_literal: false\n",
    "require_relative 'grc'"
   ]
  },
  {
   "cell_type": "code",
   "execution_count": 2,
   "id": "570680d8-b11c-4ad3-b34c-b88a9f7e22c4",
   "metadata": {},
   "outputs": [
    {
     "data": {
      "text/plain": [
       "true"
      ]
     },
     "execution_count": 2,
     "metadata": {},
     "output_type": "execute_result"
    }
   ],
   "source": [
    "'Πάντες ἄνθρωποι τοῦ εἰδέναι ὀρέγονται φύσει'.grc?"
   ]
  },
  {
   "cell_type": "code",
   "execution_count": 3,
   "id": "688b232b-bdb9-4427-92e4-8c7f7843474c",
   "metadata": {},
   "outputs": [
    {
     "data": {
      "text/plain": [
       "false"
      ]
     },
     "execution_count": 3,
     "metadata": {},
     "output_type": "execute_result"
    }
   ],
   "source": [
    "'Greekless sentence'.grc?"
   ]
  },
  {
   "cell_type": "code",
   "execution_count": 4,
   "id": "d4b7d5b0-ba91-4849-8179-9386ab09a0dc",
   "metadata": {},
   "outputs": [
    {
     "data": {
      "text/plain": [
       "[\"Πάντες\", \"ἄνθρωποι\", \"τοῦ\", \"εἰδέναι\", \"ὀρέγονται\", \"φύσει\"]"
      ]
     },
     "execution_count": 4,
     "metadata": {},
     "output_type": "execute_result"
    }
   ],
   "source": [
    "'Πάντες ἄνθρωποι τοῦ εἰδέναι ὀρέγονται φύσει'.tokenize"
   ]
  },
  {
   "cell_type": "code",
   "execution_count": 5,
   "id": "fc07aaa6-aafa-4517-9228-e3980b5418a6",
   "metadata": {},
   "outputs": [
    {
     "data": {
      "text/plain": [
       "\"pantes anthrōpoi tou eidenai oregontai physei\""
      ]
     },
     "execution_count": 5,
     "metadata": {},
     "output_type": "execute_result"
    }
   ],
   "source": [
    "'Πάντες ἄνθρωποι τοῦ εἰδέναι ὀρέγονται φύσει'.transliterate"
   ]
  },
  {
   "cell_type": "code",
   "execution_count": 6,
   "id": "9f3d9a22-f87e-4b81-97fa-ff60dda1587b",
   "metadata": {},
   "outputs": [
    {
     "data": {
      "text/plain": [
       "\"Παντες ανθρωποι του ειδεναι ορεγονται φυσει\""
      ]
     },
     "execution_count": 6,
     "metadata": {},
     "output_type": "execute_result"
    }
   ],
   "source": [
    "'Πάντες ἄνθρωποι τοῦ εἰδέναι ὀρέγονται φύσει'.no_diacritics"
   ]
  },
  {
   "cell_type": "code",
   "execution_count": 7,
   "id": "934a7bcd-d916-475f-b6dc-ff81ddfd2931",
   "metadata": {},
   "outputs": [
    {
     "data": {
      "text/plain": [
       "\"Πὰντες ἂνθρωποι τοῦ εἰδὲναι ὀρὲγονται φὺσει\""
      ]
     },
     "execution_count": 7,
     "metadata": {},
     "output_type": "execute_result"
    }
   ],
   "source": [
    "'Πάντες ἄνθρωποι τοῦ εἰδέναι ὀρέγονται φύσει'.acute_to_grave"
   ]
  },
  {
   "cell_type": "code",
   "execution_count": 8,
   "id": "52092d3e-23ce-4d30-b446-0a608cca995e",
   "metadata": {},
   "outputs": [
    {
     "data": {
      "text/plain": [
       "\"Πάντες ἄνθρωποι τοῦ εἰδέναι ὀρέγονται φύσει\""
      ]
     },
     "execution_count": 8,
     "metadata": {},
     "output_type": "execute_result"
    }
   ],
   "source": [
    "'Πὰντες ἂνθρωποι τοῦ εἰδὲναι ὀρὲγονται φὺσει'.grave_to_acute"
   ]
  },
  {
   "cell_type": "code",
   "execution_count": null,
   "id": "70db881f-526e-40a3-b684-1158517c4d57",
   "metadata": {},
   "outputs": [],
   "source": []
  }
 ],
 "metadata": {
  "kernelspec": {
   "display_name": "Ruby 3.0.1",
   "language": "ruby",
   "name": "ruby"
  },
  "language_info": {
   "file_extension": ".rb",
   "mimetype": "application/x-ruby",
   "name": "ruby",
   "version": "3.0.1"
  }
 },
 "nbformat": 4,
 "nbformat_minor": 5
}
